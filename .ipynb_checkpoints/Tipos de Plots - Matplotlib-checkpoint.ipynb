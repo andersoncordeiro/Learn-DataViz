{
 "cells": [
  {
   "cell_type": "markdown",
   "id": "senior-athletics",
   "metadata": {},
   "source": [
    "## Tipos de Plots\n",
    "\n",
    "Existem muitos outros estilos de plotagem disponíveis além do gráfico de linha padrão, todos os quais podem ser acessados passando a palavra-chave `kind` para` plot () `. A lista completa de plots disponíveis é a seguinte:\n",
    "\n",
    "- `bar` para gráficos de barra vertical\n",
    "- `barh` para gráficos de barra horizontal\n",
    "- `hist` para histograma\n",
    "- `box` para boxplot\n",
    "- `kde` ou` density` para gráficos de densidade\n",
    "- `area` para parcelas de área\n",
    "- `pie` para gráficos de pizza\n",
    "- `scatter` para gráficos de dispersão\n",
    "- `hexbin` para gráfico hexbin\n"
   ]
  },
  {
   "cell_type": "code",
   "execution_count": 6,
   "id": "adequate-mambo",
   "metadata": {},
   "outputs": [],
   "source": [
    "# estamos usando o back-end inline\n",
    "%matplotlib inline \n",
    "\n",
    "import matplotlib as mpl\n",
    "import matplotlib.pyplot as plt"
   ]
  },
  {
   "cell_type": "code",
   "execution_count": 7,
   "id": "caroline-sleeve",
   "metadata": {},
   "outputs": [],
   "source": [
    "import numpy as np \n",
    "import pandas as pd "
   ]
  },
  {
   "cell_type": "code",
   "execution_count": 13,
   "id": "adolescent-bibliography",
   "metadata": {},
   "outputs": [],
   "source": [
    "dfCanada = pd.read_excel('https://cf-courses-data.s3.us.cloud-object-storage.appdomain.cloud/IBMDeveloperSkillsNetwork-DV0101EN-SkillsNetwork/Data%20Files/Canada.xlsx', sheet_name='Canada by Citizenship', skiprows=range(20), skipfooter=2)\n",
    "dfCanada.rename(columns={'OdName':'Country', 'AreaName':'Continent', 'RegName':'Region'}, inplace=True)\n",
    "dfCanada.columns = list(map(str, dfCanada.columns))\n",
    "\n",
    "dfCanada['Total'] = dfCanada.sum(axis=1)"
   ]
  },
  {
   "cell_type": "code",
   "execution_count": 14,
   "id": "awful-seller",
   "metadata": {},
   "outputs": [
    {
     "data": {
      "text/html": [
       "<div>\n",
       "<style scoped>\n",
       "    .dataframe tbody tr th:only-of-type {\n",
       "        vertical-align: middle;\n",
       "    }\n",
       "\n",
       "    .dataframe tbody tr th {\n",
       "        vertical-align: top;\n",
       "    }\n",
       "\n",
       "    .dataframe thead th {\n",
       "        text-align: right;\n",
       "    }\n",
       "</style>\n",
       "<table border=\"1\" class=\"dataframe\">\n",
       "  <thead>\n",
       "    <tr style=\"text-align: right;\">\n",
       "      <th></th>\n",
       "      <th>Type</th>\n",
       "      <th>Coverage</th>\n",
       "      <th>Country</th>\n",
       "      <th>AREA</th>\n",
       "      <th>Continent</th>\n",
       "      <th>REG</th>\n",
       "      <th>Region</th>\n",
       "      <th>DEV</th>\n",
       "      <th>DevName</th>\n",
       "      <th>1980</th>\n",
       "      <th>...</th>\n",
       "      <th>2005</th>\n",
       "      <th>2006</th>\n",
       "      <th>2007</th>\n",
       "      <th>2008</th>\n",
       "      <th>2009</th>\n",
       "      <th>2010</th>\n",
       "      <th>2011</th>\n",
       "      <th>2012</th>\n",
       "      <th>2013</th>\n",
       "      <th>Total</th>\n",
       "    </tr>\n",
       "  </thead>\n",
       "  <tbody>\n",
       "    <tr>\n",
       "      <th>0</th>\n",
       "      <td>Immigrants</td>\n",
       "      <td>Foreigners</td>\n",
       "      <td>Afghanistan</td>\n",
       "      <td>935</td>\n",
       "      <td>Asia</td>\n",
       "      <td>5501</td>\n",
       "      <td>Southern Asia</td>\n",
       "      <td>902</td>\n",
       "      <td>Developing regions</td>\n",
       "      <td>16</td>\n",
       "      <td>...</td>\n",
       "      <td>3436</td>\n",
       "      <td>3009</td>\n",
       "      <td>2652</td>\n",
       "      <td>2111</td>\n",
       "      <td>1746</td>\n",
       "      <td>1758</td>\n",
       "      <td>2203</td>\n",
       "      <td>2635</td>\n",
       "      <td>2004</td>\n",
       "      <td>65977</td>\n",
       "    </tr>\n",
       "    <tr>\n",
       "      <th>1</th>\n",
       "      <td>Immigrants</td>\n",
       "      <td>Foreigners</td>\n",
       "      <td>Albania</td>\n",
       "      <td>908</td>\n",
       "      <td>Europe</td>\n",
       "      <td>925</td>\n",
       "      <td>Southern Europe</td>\n",
       "      <td>901</td>\n",
       "      <td>Developed regions</td>\n",
       "      <td>1</td>\n",
       "      <td>...</td>\n",
       "      <td>1223</td>\n",
       "      <td>856</td>\n",
       "      <td>702</td>\n",
       "      <td>560</td>\n",
       "      <td>716</td>\n",
       "      <td>561</td>\n",
       "      <td>539</td>\n",
       "      <td>620</td>\n",
       "      <td>603</td>\n",
       "      <td>18433</td>\n",
       "    </tr>\n",
       "    <tr>\n",
       "      <th>2</th>\n",
       "      <td>Immigrants</td>\n",
       "      <td>Foreigners</td>\n",
       "      <td>Algeria</td>\n",
       "      <td>903</td>\n",
       "      <td>Africa</td>\n",
       "      <td>912</td>\n",
       "      <td>Northern Africa</td>\n",
       "      <td>902</td>\n",
       "      <td>Developing regions</td>\n",
       "      <td>80</td>\n",
       "      <td>...</td>\n",
       "      <td>3626</td>\n",
       "      <td>4807</td>\n",
       "      <td>3623</td>\n",
       "      <td>4005</td>\n",
       "      <td>5393</td>\n",
       "      <td>4752</td>\n",
       "      <td>4325</td>\n",
       "      <td>3774</td>\n",
       "      <td>4331</td>\n",
       "      <td>72156</td>\n",
       "    </tr>\n",
       "    <tr>\n",
       "      <th>3</th>\n",
       "      <td>Immigrants</td>\n",
       "      <td>Foreigners</td>\n",
       "      <td>American Samoa</td>\n",
       "      <td>909</td>\n",
       "      <td>Oceania</td>\n",
       "      <td>957</td>\n",
       "      <td>Polynesia</td>\n",
       "      <td>902</td>\n",
       "      <td>Developing regions</td>\n",
       "      <td>0</td>\n",
       "      <td>...</td>\n",
       "      <td>0</td>\n",
       "      <td>1</td>\n",
       "      <td>0</td>\n",
       "      <td>0</td>\n",
       "      <td>0</td>\n",
       "      <td>0</td>\n",
       "      <td>0</td>\n",
       "      <td>0</td>\n",
       "      <td>0</td>\n",
       "      <td>2774</td>\n",
       "    </tr>\n",
       "    <tr>\n",
       "      <th>4</th>\n",
       "      <td>Immigrants</td>\n",
       "      <td>Foreigners</td>\n",
       "      <td>Andorra</td>\n",
       "      <td>908</td>\n",
       "      <td>Europe</td>\n",
       "      <td>925</td>\n",
       "      <td>Southern Europe</td>\n",
       "      <td>901</td>\n",
       "      <td>Developed regions</td>\n",
       "      <td>0</td>\n",
       "      <td>...</td>\n",
       "      <td>0</td>\n",
       "      <td>1</td>\n",
       "      <td>1</td>\n",
       "      <td>0</td>\n",
       "      <td>0</td>\n",
       "      <td>0</td>\n",
       "      <td>0</td>\n",
       "      <td>1</td>\n",
       "      <td>1</td>\n",
       "      <td>2749</td>\n",
       "    </tr>\n",
       "  </tbody>\n",
       "</table>\n",
       "<p>5 rows × 44 columns</p>\n",
       "</div>"
      ],
      "text/plain": [
       "         Type    Coverage         Country  AREA Continent   REG  \\\n",
       "0  Immigrants  Foreigners     Afghanistan   935      Asia  5501   \n",
       "1  Immigrants  Foreigners         Albania   908    Europe   925   \n",
       "2  Immigrants  Foreigners         Algeria   903    Africa   912   \n",
       "3  Immigrants  Foreigners  American Samoa   909   Oceania   957   \n",
       "4  Immigrants  Foreigners         Andorra   908    Europe   925   \n",
       "\n",
       "            Region  DEV             DevName  1980  ...  2005  2006  2007  \\\n",
       "0    Southern Asia  902  Developing regions    16  ...  3436  3009  2652   \n",
       "1  Southern Europe  901   Developed regions     1  ...  1223   856   702   \n",
       "2  Northern Africa  902  Developing regions    80  ...  3626  4807  3623   \n",
       "3        Polynesia  902  Developing regions     0  ...     0     1     0   \n",
       "4  Southern Europe  901   Developed regions     0  ...     0     1     1   \n",
       "\n",
       "   2008  2009  2010  2011  2012  2013  Total  \n",
       "0  2111  1746  1758  2203  2635  2004  65977  \n",
       "1   560   716   561   539   620   603  18433  \n",
       "2  4005  5393  4752  4325  3774  4331  72156  \n",
       "3     0     0     0     0     0     0   2774  \n",
       "4     0     0     0     0     1     1   2749  \n",
       "\n",
       "[5 rows x 44 columns]"
      ]
     },
     "execution_count": 14,
     "metadata": {},
     "output_type": "execute_result"
    }
   ],
   "source": [
    "dfCanada.head()"
   ]
  },
  {
   "cell_type": "markdown",
   "id": "continuing-handling",
   "metadata": {},
   "source": [
    "### bar"
   ]
  },
  {
   "cell_type": "markdown",
   "id": "intellectual-listing",
   "metadata": {},
   "source": [
    "### barh"
   ]
  },
  {
   "cell_type": "markdown",
   "id": "beneficial-little",
   "metadata": {},
   "source": [
    "### hist"
   ]
  },
  {
   "cell_type": "markdown",
   "id": "simplified-found",
   "metadata": {},
   "source": [
    "### box"
   ]
  },
  {
   "cell_type": "markdown",
   "id": "resistant-length",
   "metadata": {},
   "source": [
    "## pie"
   ]
  },
  {
   "cell_type": "markdown",
   "id": "unavailable-powell",
   "metadata": {},
   "source": [
    "Um `pie chart` é um gráfico circular que exibe proporções numéricas dividindo um círculo (ou pizza) em fatias proporcionais. Provavelmente, você já está familiarizado com os gráficos de pizza, pois eles são amplamente usados nos negócios e na mídia. Podemos criar gráficos de pizza no Matplotlib passando a palavra-chave `kind = pie`.\n",
    "\n",
    "Vamos usar um gráfico de pizza para explorar a proporção (porcentagem) de novos imigrantes agrupados por continentes em todo o período de 1980 a 2013."
   ]
  },
  {
   "cell_type": "markdown",
   "id": "competent-apparel",
   "metadata": {},
   "source": [
    "    Exemplo de uso:"
   ]
  },
  {
   "cell_type": "code",
   "execution_count": 16,
   "id": "offensive-foster",
   "metadata": {},
   "outputs": [
    {
     "data": {
      "text/html": [
       "<div>\n",
       "<style scoped>\n",
       "    .dataframe tbody tr th:only-of-type {\n",
       "        vertical-align: middle;\n",
       "    }\n",
       "\n",
       "    .dataframe tbody tr th {\n",
       "        vertical-align: top;\n",
       "    }\n",
       "\n",
       "    .dataframe thead th {\n",
       "        text-align: right;\n",
       "    }\n",
       "</style>\n",
       "<table border=\"1\" class=\"dataframe\">\n",
       "  <thead>\n",
       "    <tr style=\"text-align: right;\">\n",
       "      <th></th>\n",
       "      <th>AREA</th>\n",
       "      <th>REG</th>\n",
       "      <th>DEV</th>\n",
       "      <th>1980</th>\n",
       "      <th>1981</th>\n",
       "      <th>1982</th>\n",
       "      <th>1983</th>\n",
       "      <th>1984</th>\n",
       "      <th>1985</th>\n",
       "      <th>1986</th>\n",
       "      <th>...</th>\n",
       "      <th>2005</th>\n",
       "      <th>2006</th>\n",
       "      <th>2007</th>\n",
       "      <th>2008</th>\n",
       "      <th>2009</th>\n",
       "      <th>2010</th>\n",
       "      <th>2011</th>\n",
       "      <th>2012</th>\n",
       "      <th>2013</th>\n",
       "      <th>Total</th>\n",
       "    </tr>\n",
       "    <tr>\n",
       "      <th>Continent</th>\n",
       "      <th></th>\n",
       "      <th></th>\n",
       "      <th></th>\n",
       "      <th></th>\n",
       "      <th></th>\n",
       "      <th></th>\n",
       "      <th></th>\n",
       "      <th></th>\n",
       "      <th></th>\n",
       "      <th></th>\n",
       "      <th></th>\n",
       "      <th></th>\n",
       "      <th></th>\n",
       "      <th></th>\n",
       "      <th></th>\n",
       "      <th></th>\n",
       "      <th></th>\n",
       "      <th></th>\n",
       "      <th></th>\n",
       "      <th></th>\n",
       "      <th></th>\n",
       "    </tr>\n",
       "  </thead>\n",
       "  <tbody>\n",
       "    <tr>\n",
       "      <th>Africa</th>\n",
       "      <td>48762</td>\n",
       "      <td>49242</td>\n",
       "      <td>48708</td>\n",
       "      <td>3951</td>\n",
       "      <td>4363</td>\n",
       "      <td>3819</td>\n",
       "      <td>2671</td>\n",
       "      <td>2639</td>\n",
       "      <td>2650</td>\n",
       "      <td>3782</td>\n",
       "      <td>...</td>\n",
       "      <td>27523</td>\n",
       "      <td>29188</td>\n",
       "      <td>28284</td>\n",
       "      <td>29890</td>\n",
       "      <td>34534</td>\n",
       "      <td>40892</td>\n",
       "      <td>35441</td>\n",
       "      <td>38083</td>\n",
       "      <td>38543</td>\n",
       "      <td>765660</td>\n",
       "    </tr>\n",
       "    <tr>\n",
       "      <th>Asia</th>\n",
       "      <td>45815</td>\n",
       "      <td>109147</td>\n",
       "      <td>44197</td>\n",
       "      <td>31025</td>\n",
       "      <td>34314</td>\n",
       "      <td>30214</td>\n",
       "      <td>24696</td>\n",
       "      <td>27274</td>\n",
       "      <td>23850</td>\n",
       "      <td>28739</td>\n",
       "      <td>...</td>\n",
       "      <td>159253</td>\n",
       "      <td>149054</td>\n",
       "      <td>133459</td>\n",
       "      <td>139894</td>\n",
       "      <td>141434</td>\n",
       "      <td>163845</td>\n",
       "      <td>146894</td>\n",
       "      <td>152218</td>\n",
       "      <td>155075</td>\n",
       "      <td>3516953</td>\n",
       "    </tr>\n",
       "  </tbody>\n",
       "</table>\n",
       "<p>2 rows × 38 columns</p>\n",
       "</div>"
      ],
      "text/plain": [
       "            AREA     REG    DEV   1980   1981   1982   1983   1984   1985  \\\n",
       "Continent                                                                   \n",
       "Africa     48762   49242  48708   3951   4363   3819   2671   2639   2650   \n",
       "Asia       45815  109147  44197  31025  34314  30214  24696  27274  23850   \n",
       "\n",
       "            1986  ...    2005    2006    2007    2008    2009    2010    2011  \\\n",
       "Continent         ...                                                           \n",
       "Africa      3782  ...   27523   29188   28284   29890   34534   40892   35441   \n",
       "Asia       28739  ...  159253  149054  133459  139894  141434  163845  146894   \n",
       "\n",
       "             2012    2013    Total  \n",
       "Continent                           \n",
       "Africa      38083   38543   765660  \n",
       "Asia       152218  155075  3516953  \n",
       "\n",
       "[2 rows x 38 columns]"
      ]
     },
     "execution_count": 16,
     "metadata": {},
     "output_type": "execute_result"
    }
   ],
   "source": [
    "# agrupando por continentes\n",
    "df_continents = dfCanada.groupby('Continent', axis=0).sum()\n",
    "df_continents.head(2)"
   ]
  },
  {
   "cell_type": "markdown",
   "id": "forced-harbor",
   "metadata": {},
   "source": [
    "Vamos passar a palavra-chave `kind = 'pie'`, junto com os seguintes parâmetros adicionais:\n",
    "\n",
    "- `autopct` - é uma string ou função usada para rotular as fatias com seu valor numérico. Se for uma string de formato, o rótulo será `fmt% pct`.\n",
    "- `startangle` - gira o início do gráfico de pizza em graus de ângulo no sentido anti-horário a partir do eixo x.\n",
    "- `shadow` - Desenha uma sombra abaixo da pizza (para dar uma sensação 3D)."
   ]
  },
  {
   "cell_type": "code",
   "execution_count": 26,
   "id": "rental-gamma",
   "metadata": {},
   "outputs": [
    {
     "data": {
      "image/png": "[encoded data removed]",
      "text/plain": [
       "<Figure size 360x432 with 1 Axes>"
      ]
     },
     "metadata": {},
     "output_type": "display_data"
    }
   ],
   "source": [
    "# autopct create %, start angle represent starting point\n",
    "df_continents['Total'].plot(kind='pie',\n",
    "                            figsize=(5, 6),\n",
    "                            autopct='%1.1f%%', # add in percentages\n",
    "                            startangle=90,     # start angle 90° (Africa)\n",
    "                            shadow=True,       # add shadow      \n",
    "                            )\n",
    "\n",
    "plt.title('Immigration to Canada by Continent [1980 - 2013]')\n",
    "#plt.axis('equal') # Sets the pie chart to look like a circle.\n",
    "plt.show()"
   ]
  },
  {
   "cell_type": "markdown",
   "id": "suitable-symbol",
   "metadata": {},
   "source": [
    "O visual acima não é muito claro, os números e o texto se sobrepõem em alguns casos. Vamos fazer algumas modificações para melhorar o visual:\n",
    "\n",
    "- Remover os rótulos de texto no gráfico de pizza passando `legend` e adicione-o como uma legenda separada usando` plt.legend() `.\n",
    "- Empurrar as porcentagens para ficar fora do gráfico de pizza, passando o parâmetro `pctdistance`.\n",
    "- Passar um conjunto personalizado de cores para continentes, passando o parâmetro `colors`.\n",
    "- ** Explodir ** o gráfico de pizza para enfatizar os três continentes mais baixos (África, América do Norte e América Latina e Caribe) inserindo o parâmetro `explode`."
   ]
  },
  {
   "cell_type": "code",
   "execution_count": 31,
   "id": "coupled-better",
   "metadata": {},
   "outputs": [
    {
     "data": {
      "image/png": "[encoded data removed]",
      "text/plain": [
       "<Figure size 720x720 with 1 Axes>"
      ]
     },
     "metadata": {},
     "output_type": "display_data"
    }
   ],
   "source": [
    "colors_list = ['gold', 'yellowgreen', 'lightcoral', 'lightskyblue', 'lightgreen', 'pink']\n",
    "explode_list = [0, 0, 0, 0, 0.1, 0.1] # ratio for each continent with which to offset each wedge.\n",
    "\n",
    "df_continents['Total'].plot(kind='pie',\n",
    "                            figsize=(10, 10),\n",
    "                            autopct='%1.1f%%', \n",
    "                            startangle=90,    \n",
    "                            shadow=True,       \n",
    "                            labels=None,         # turn off labels on pie chart\n",
    "                            pctdistance=1.12,    # the ratio between the center of each pie slice and the start of the text generated by autopct \n",
    "                            colors=colors_list,  # add custom colors\n",
    "                            explode=explode_list # 'explode' lowest 3 continents\n",
    "                            )\n",
    "\n",
    "# scale the title up by 12% to match pctdistance\n",
    "plt.title('Immigration to Canada by Continent [1980 - 2013]', y=1.12) \n",
    "\n",
    "#plt.axis('equal') \n",
    "\n",
    "# add legend\n",
    "plt.legend(labels=df_continents.index, loc='upper left') \n",
    "\n",
    "plt.show()"
   ]
  },
  {
   "cell_type": "markdown",
   "id": "stylish-secretariat",
   "metadata": {},
   "source": [
    "### kde"
   ]
  },
  {
   "cell_type": "markdown",
   "id": "regulation-tuning",
   "metadata": {},
   "source": [
    "### area"
   ]
  },
  {
   "cell_type": "markdown",
   "id": "powered-customs",
   "metadata": {},
   "source": [
    "### scatter"
   ]
  },
  {
   "cell_type": "markdown",
   "id": "precious-undergraduate",
   "metadata": {},
   "source": [
    "### hexbin"
   ]
  },
  {
   "cell_type": "code",
   "execution_count": null,
   "id": "employed-adoption",
   "metadata": {},
   "outputs": [],
   "source": []
  }
 ],
 "metadata": {
  "kernelspec": {
   "display_name": "Python 3",
   "language": "python",
   "name": "python3"
  },
  "language_info": {
   "codemirror_mode": {
    "name": "ipython",
    "version": 3
   },
   "file_extension": ".py",
   "mimetype": "text/x-python",
   "name": "python",
   "nbconvert_exporter": "python",
   "pygments_lexer": "ipython3",
   "version": "3.6.9"
  }
 },
 "nbformat": 4,
 "nbformat_minor": 5
}
